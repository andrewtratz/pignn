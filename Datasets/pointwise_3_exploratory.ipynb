{
 "cells": [
  {
   "cell_type": "code",
   "execution_count": 2,
   "metadata": {},
   "outputs": [],
   "source": [
    "from lips import get_root_path\n",
    "from lips.dataset import airfransDataSet\n",
    "from lips.dataset.airfransDataSet import AirfRANSDataSet\n",
    "from lips.benchmark.airfransBenchmark import AirfRANSBenchmark\n",
    "from sklearn.model_selection import train_test_split\n",
    "from sklearn.metrics import mean_squared_error\n",
    "\n",
    "import xgboost as xgb\n",
    "\n",
    "import os\n",
    "import numpy as np\n",
    "import matplotlib.pyplot as plt\n",
    "from tqdm import tqdm"
   ]
  },
  {
   "cell_type": "code",
   "execution_count": 3,
   "metadata": {},
   "outputs": [],
   "source": [
    "# indicate required paths\n",
    "LIPS_PATH = get_root_path()\n",
    "DIRECTORY_NAME = '../../Airfrans/Dataset'\n",
    "BENCHMARK_NAME = \"Case1\"\n",
    "LOG_PATH = LIPS_PATH + \"lips_logs.log\"\n",
    "BENCH_CONFIG_PATH = os.path.join(\"../../Kit\", \"airfoilConfigurations\",\"benchmarks\",\"confAirfoil.ini\") #Configuration file related to the benchmark\n",
    "SIM_CONFIG_PATH = os.path.join(\"../../Kit\", \"airfoilConfigurations\",\"simulators\",\"torch_fc.ini\") #Configuration file re\n",
    "# print(BENCH_CONFIG_PATH)\n",
    "\n",
    "# Scalers\n",
    "PRESS_SCALE = 1600.0\n",
    "TURB_SCALE = 0.01\n",
    "SPEED_SCALE = 75.0\n",
    "DEFAULT_SCALE = 1.0\n"
   ]
  },
  {
   "cell_type": "code",
   "execution_count": null,
   "metadata": {},
   "outputs": [],
   "source": [
    "benchmark=AirfRANSBenchmark(benchmark_path = DIRECTORY_NAME,\n",
    "                            config_path = BENCH_CONFIG_PATH,\n",
    "                            benchmark_name = BENCHMARK_NAME,\n",
    "                            log_path = LOG_PATH)\n",
    "benchmark.load(path=DIRECTORY_NAME)"
   ]
  },
  {
   "cell_type": "code",
   "execution_count": null,
   "metadata": {},
   "outputs": [],
   "source": [
    "print(\"train dataset: \", benchmark.train_dataset)"
   ]
  },
  {
   "cell_type": "code",
   "execution_count": null,
   "metadata": {},
   "outputs": [],
   "source": [
    "print(benchmark.train_dataset.extra_data['simulation_names'])"
   ]
  },
  {
   "cell_type": "code",
   "execution_count": 7,
   "metadata": {},
   "outputs": [],
   "source": [
    "def extract_dataset_by_simulation(newdataset_name:str,\n",
    "                                   dataset:AirfRANSDataSet,\n",
    "                                   simulation_index:int):\n",
    "    simulation_sizes = dataset.get_simulations_sizes()\n",
    "    sample_sizes = [None]*len(simulation_sizes)\n",
    "    start_index = 0\n",
    "    for simulation_Id,simulation_size in enumerate(simulation_sizes):\n",
    "        sample_sizes[simulation_Id] = range(start_index,start_index+simulation_size)\n",
    "        start_index+= simulation_size\n",
    "    # values=operator.itemgetter(*list(simulation_indices))(sample_sizes)\n",
    "    nodes_simulation_indices = sorted([item for sublist in [sample_sizes[simulation_index]] for item in sublist])\n",
    "\n",
    "    new_data={}\n",
    "    for data_name in dataset._attr_names:\n",
    "        new_data[data_name]=dataset.data[data_name][nodes_simulation_indices]\n",
    "    new_extra_data={\n",
    "                    'simulation_names':dataset.extra_data['simulation_names'][simulation_index],\n",
    "                    'surface':dataset.extra_data['surface'][nodes_simulation_indices]\n",
    "                    }\n",
    "    new_dataset=type(dataset)(config = dataset.config, \n",
    "                             name = newdataset_name,\n",
    "                             task = dataset._task,\n",
    "                             split = dataset._split,\n",
    "                             attr_names = dataset._attr_names, \n",
    "                             attr_x = dataset._attr_x , \n",
    "                             attr_y = dataset._attr_y)\n",
    "\n",
    "    new_dataset.data=new_data\n",
    "    new_dataset.extra_data=new_extra_data\n",
    "    new_dataset._infer_sizes()\n",
    "    return new_dataset\n",
    "\n",
    "\n"
   ]
  },
  {
   "cell_type": "code",
   "execution_count": 56,
   "metadata": {},
   "outputs": [],
   "source": [
    "# def translate(point, new_origin):\n",
    "#     return point - new_origin\n",
    "\n",
    "# def untranslate(point, old_origin):\n",
    "#     return point + old_origin\n",
    "\n",
    "# def project(point, line_vector):\n",
    "#     return line_vector * (line_vector.dot(point) / line_vector.dot(line_vector))\n",
    "\n",
    "# def rotate_deg(point, degrees):\n",
    "#     rads = degrees * np.pi/180\n",
    "#     rot_matrix = np.array([[np.cos(rads), -np.sin(rads)],[np.sin(rads), np.cos(rads)]])\n",
    "#     return rot_matrix.dot(point)\n",
    "\n",
    "def expand(vector):\n",
    "    if vector.ndim == 1:\n",
    "        out = np.expand_dims(vector, 0)\n",
    "        return np.copy(out), True\n",
    "    else:\n",
    "        return np.copy(vector), False\n",
    "\n",
    "def rotate(point, angle):\n",
    "    rot_matrix = np.array([[np.cos(angle), -np.sin(angle)],[np.sin(angle), np.cos(angle)]])\n",
    "    return point.dot(rot_matrix)\n",
    "\n",
    "def angle_between(a, b):\n",
    "    if a.ndim == 1 and b.ndim == 1:\n",
    "        assert(np.linalg.norm(a) > 0 and np.linalg.norm(b) > 0)\n",
    "        theta = np.arccos(np.maximum(-1, np.minimum(1, a.dot(b)/np.linalg.norm(a,ord=2)/np.linalg.norm(b,ord=2))))\n",
    "    else:\n",
    "        assert(a.ndim == 1)\n",
    "        np.seterr(all='raise')\n",
    "        theta = np.arccos(np.maximum(-1, np.minimum(1, b.dot(a)/np.linalg.norm(a,ord=2)/np.linalg.norm(b, ord=2,axis=1))))\n",
    "    return theta\n",
    "\n",
    "def distance(a, b):\n",
    "    return np.linalg.norm(a-b)\n",
    "\n",
    "def relative_wind_angle(vector):\n",
    "    vector, expanded = expand(vector)\n",
    "    vel_theta = angle_between(np.array([1,0]), vector)\n",
    "    vel_theta, _ = expand(vel_theta)\n",
    "    vel_theta[np.where(vel_theta < 0)] *= -1\n",
    "    if expanded:\n",
    "        vel_theta = vel_theta.squeeze()\n",
    "    return vel_theta\n",
    "\n",
    "def rotate_normal(vector):\n",
    "    if vector[1] <= 0: # Rotate 90 degrees counterclockwise\n",
    "        out_vector = rotate(vector, -np.pi/2)\n",
    "    else: #Clockwise\n",
    "        out_vector = rotate(vector, np.pi/2)\n",
    "    return out_vector\n",
    "\n",
    "\n",
    "# def in_cone(point, origin, vector, tolerance_deg):\n",
    "#     trans = translate(point, origin)\n",
    "#     val = angle_between(trans, vector) <= (tolerance_deg * np.pi/360)\n",
    "#     # print(val)\n",
    "#     return val\n",
    "\n",
    "# forty_five_north = np.array([-np.cos(np.pi/4), np.sin(np.pi/4)])\n",
    "\n",
    "# print(in_cone(key_point + np.array([-.8, .7]), key_point, forty_five_north, 5))\n",
    "\n",
    "# plt.figure()\n",
    "# plt.scatter(0, 0, c='#0000DD', marker='x')\n",
    "# plt.scatter(translate(test_point, key_point)[0], translate(test_point, key_point)[1], c='#0000DD', marker='o')\n",
    "# plt.scatter(project(translate(test_point, key_point), forty_five_north)[0], project(translate(test_point, key_point), forty_five_north)[1], c='#0000DD', marker='x')\n",
    "# plt.xlim([-1.5, 1.5])\n",
    "# plt.ylim([-1.5, 1.5])\n",
    "# plt.show()\n"
   ]
  },
  {
   "cell_type": "code",
   "execution_count": 9,
   "metadata": {},
   "outputs": [],
   "source": [
    "\n",
    "def find_parents(idx, data, start_min, degree_list, tolerance):\n",
    "    key_point = data[idx,:2] # Point of interest\n",
    "    comps_mod = data[start_min:idx, :2] - key_point # Translated comparision points\n",
    "    norms = comps_mod / np.expand_dims(np.linalg.norm(comps_mod, axis=1),1) # Unit vectors for comparison points\n",
    "\n",
    "    ret_idx = []\n",
    "    for degree in degree_list:\n",
    "        vector = np.array([np.cos(degree * np.pi/180), np.sin(degree * np.pi/180)]) # Vector to look for parents\n",
    "        thetas = np.arccos(np.maximum(-1, np.minimum(1, norms.dot(vector)))) # Find angles for all comparison points\n",
    "        matching = np.argwhere(thetas <= (tolerance * np.pi/360)) # Filter by tolerance range\n",
    "        c = np.atleast_1d(comps_mod[matching.squeeze(axis=1), :2].squeeze().dot(vector)) # Project onto the vector\n",
    "        if(len(c) == 0): # We don't find any possible matches, then handle it\n",
    "            if abs(key_point[1]) <= 1 and key_point[0] >= -1 and key_point[0] <= 2: # If we are close to the airfoil\n",
    "                ret_idx.append(-2) # Close to airfoil\n",
    "                continue\n",
    "            else:\n",
    "                ret_idx.append(-1) # Close to edge\n",
    "                continue\n",
    "        best = matching[np.argmin(c[np.argwhere(c>0)])] + start_min # Find index of the closest projected point\n",
    "        ret_idx.append(best.item()) # Append to our return values\n",
    "    return ret_idx\n"
   ]
  },
  {
   "cell_type": "code",
   "execution_count": 10,
   "metadata": {},
   "outputs": [],
   "source": [
    "\n",
    "# ('x-position', 'y-position', 'x-inlet_velocity', 'y-inlet_velocity', 'distance_function', 'x-normals', 'y-normals')\n",
    "# ('x-velocity', 'y-velocity', 'pressure', 'turbulent_viscosity')\n",
    "\n",
    "# Create friendly index headers\n",
    "X = 0\n",
    "Y = 1\n",
    "X_INLET = 2\n",
    "Y_INLET = 3\n",
    "DIST = 4\n",
    "X_NORMAL = 5\n",
    "Y_NORMAL = 6\n",
    "X_VEL = 7\n",
    "Y_VEL = 8\n",
    "PRESS = 9\n",
    "TURB = 10\n",
    "\n",
    "def transform_x(idx, data, parents, surface, speed, theta):\n",
    "    features = []\n",
    "    line = data[idx, :]\n",
    "\n",
    "    # Find closest surface point\n",
    "    if line[X_NORMAL] != 0 or line[Y_NORMAL] != 0:\n",
    "        closest = line\n",
    "    else:\n",
    "        closest = surface[np.argmin(np.linalg.norm(surface[:,:2] - line[:2], axis=1))]\n",
    "\n",
    "    # Create modified angles and flow metrics\n",
    "    surface_flow = rotate_normal(closest[X_NORMAL:Y_NORMAL+1])\n",
    "    surface_theta = relative_wind_angle(surface_flow).item()\n",
    "\n",
    "    features.append(line[X])\n",
    "    features.append(line[Y])\n",
    "    features.append(speed / SPEED_SCALE)\n",
    "    features.append(theta)\n",
    "    features.append(line[DIST])\n",
    "    features.append(surface_theta)\n",
    "    for parent in parents[idx]:\n",
    "        if parent == -1: # Off the grid\n",
    "            features.append(line[X])\n",
    "            features.append(line[Y])\n",
    "            features.append(0.0)\n",
    "            features.append(0.0)\n",
    "            features.append(0.0)\n",
    "            features.append(0.0)\n",
    "            features.append(0.0)\n",
    "            features.append(0.0)\n",
    "            features.append(0.0)\n",
    "            features.append(-1.0) # Off the grid specifier\n",
    "        elif parent == -2: # Airfoil interior\n",
    "            features.append(line[X])\n",
    "            features.append(line[Y])\n",
    "            features.append(0.0)\n",
    "            features.append(0.0)\n",
    "            features.append(surface_theta)\n",
    "            features.append(0.0)\n",
    "            features.append(0.0)\n",
    "            features.append(0.0)\n",
    "            features.append(0.0)\n",
    "            features.append(1.0) # Interior specifier\n",
    "        else:\n",
    "            p = data[parent, :]\n",
    "            if p[Y_NORMAL] != 0 or p[X_NORMAL] != 0: # Surface node\n",
    "                features.append(p[X]) #1 X\n",
    "                features.append(p[Y]) #2 Y\n",
    "                features.append(0.0) #3 Distance (zero for surface)\n",
    "                features.append(distance(p[X:Y+1], line[X:Y+1])) #4 Dist to parent\n",
    "\n",
    "                p_flow = rotate_normal(p[X_NORMAL:Y_NORMAL+1])\n",
    "                p_theta = relative_wind_angle(p_flow)\n",
    "\n",
    "                features.append(p_theta) #5 Parent normal theta\n",
    "                features.append(0.0) #6 Vel theta\n",
    "                features.append(0.0) #7 Speed\n",
    "                features.append(p[PRESS] / PRESS_SCALE) #8 Pressure\n",
    "                features.append(p[TURB] / TURB_SCALE) #9 Turbulence - none for airfoil\n",
    "                features.append(1.0) #10 Surface specifier\n",
    "            else:\n",
    "                features.append(p[X]) #1\n",
    "                features.append(p[Y]) #2\n",
    "                features.append(p[DIST]) #3\n",
    "                features.append(distance(p[X:Y+1], line[X:Y+1])) #4\n",
    "\n",
    "                vel_theta = relative_wind_angle(p[X_VEL:Y_VEL+1]).item()\n",
    "                p_speed = np.linalg.norm(p[X_VEL:Y_VEL+1]) / SPEED_SCALE\n",
    "\n",
    "                features.append(0.0) #5 Parent normal theta\n",
    "                # features.append(vel_theta) #6 Vel theta\n",
    "                # features.append(p_speed) #7 Speed\n",
    "                features.append(p[X_VEL] / SPEED_SCALE)\n",
    "                features.append(p[Y_VEL] / SPEED_SCALE)\n",
    "                features.append(p[PRESS] / PRESS_SCALE) #8 Pressure\n",
    "                features.append(p[TURB] / TURB_SCALE) #9 Turbulence\n",
    "                features.append(0.0) #10 Normal specifier\n",
    "\n",
    "    return np.array(features)\n",
    "\n",
    "\n",
    "def transform_y(y_set, surface_indices):\n",
    "    out, expanded = expand(y_set)\n",
    "    y_set, _ = expand(y_set)\n",
    "    # if True in surface_indices:\n",
    "    #     out[np.array(surface_indices), 0] = 0.0\n",
    "    # out[~np.array(surface_indices), 0] = relative_wind_angle(out[~np.array(surface_indices), 0:2])\n",
    "    \n",
    "    # out[:, 1] = np.linalg.norm(y_set[:, 0:2], axis=1) / SPEED_SCALE\n",
    "    out[:, 0] /= SPEED_SCALE\n",
    "    out[:, 1] /= SPEED_SCALE\n",
    "    out[:, 2] /= PRESS_SCALE\n",
    "    out[:, 3] /= TURB_SCALE\n",
    "    if expanded:\n",
    "        out = out.squeeze()\n",
    "    return out\n",
    "\n",
    "def untransform_y(y_preds):\n",
    "    out, expanded = expand(y_preds)\n",
    "    y_preds, _ = expand(y_preds)\n",
    "    # out[:, 0] = np.cos(y_preds[:, 0]) * y_preds[:, 1] * SPEED_SCALE # X-vec * speed\n",
    "    # out[:, 1] = np.sin(y_preds[:, 0]) * y_preds[:, 1] * SPEED_SCALE # X-vec * speed\n",
    "    out[:, 0] *= SPEED_SCALE\n",
    "    out[:, 1] *= SPEED_SCALE\n",
    "    out[:, 2] *= PRESS_SCALE\n",
    "    out[:, 3] *= TURB_SCALE\n",
    "    if expanded:\n",
    "        out = out.squeeze()\n",
    "    return out\n",
    "\n"
   ]
  },
  {
   "cell_type": "code",
   "execution_count": 11,
   "metadata": {},
   "outputs": [],
   "source": [
    "\n",
    "def extract_and_realign(dataset, sim):\n",
    "    print(\"Simulation: \" + str(sim))\n",
    "    data_by_sim = extract_dataset_by_simulation(\"BySim\", benchmark.train_dataset, sim)\n",
    "    x, y = data_by_sim.extract_data()\n",
    "    data = np.hstack((x, y))\n",
    "    data = data[data[:, 0].argsort()]\n",
    "\n",
    "    # Rotate data based on inlet velocity\n",
    "    in_vector = np.copy(data[0,X_INLET:Y_INLET+1]) # Get inlet velocity vector\n",
    "    speed = np.linalg.norm(in_vector) # Get inlet speed\n",
    "    in_vector /= speed # Normalize inlet velocity vector\n",
    "\n",
    "    # theta = np.arccos(np.maximum(-1, np.minimum(1,np.array([1,0]).dot(in_vector)))) # Wind theta\n",
    "    # if(in_vector[1] < 0): # Rotate counterclockwise if y_vector below 0\n",
    "    #     theta = -theta\n",
    "    theta = 0.0\n",
    "\n",
    "    data[:,:2] = rotate(data[:,:2], theta)\n",
    "    data[:,X_NORMAL:Y_NORMAL+1] = rotate(data[:,X_NORMAL:Y_NORMAL+1], theta)\n",
    "    data[:,X_VEL:Y_VEL+1] = rotate(data[:,X_VEL:Y_VEL+1], theta) # Now have rotated velocity vectors \n",
    "\n",
    "    return data, speed, theta\n",
    "\n",
    "def identify_parents(data, sim):\n",
    "    # Find parent relationships\n",
    "    if os.path.exists('parents_' + str(sim) + '.npy'):\n",
    "        parents = np.load('parents_' + str(sim) + '.npy')\n",
    "    else:\n",
    "        min_search = 0\n",
    "        parents = []\n",
    "        for i in tqdm(range(0, data.shape[0])):\n",
    "            for m in range(min_search, i, 100):\n",
    "                if data[i, 0] - data[m, 0] > .3: # Truncate search space for speed\n",
    "                    min_search += 100\n",
    "            parents.append(find_parents(i, data, min_search, [180, 135, 225], 5))\n",
    "        np.save('parents_' + str(sim) + '.npy', np.array([np.array(xi) for xi in parents]))\n",
    "    return parents\n",
    "\n",
    "def get_surface(data):\n",
    "    return data[np.where(np.logical_or(data[:,X_NORMAL] != 0.0, data[:,Y_NORMAL] != 0.0))]\n"
   ]
  },
  {
   "cell_type": "code",
   "execution_count": null,
   "metadata": {},
   "outputs": [],
   "source": [
    "# Collect training examples and build features\n",
    "\n",
    "train_x = []\n",
    "train_y = []\n",
    "train_x_raw = []\n",
    "train_y_raw = []\n",
    "\n",
    "def is_surface(row):\n",
    "    return row[X_NORMAL] != 0.0 or row[Y_NORMAL] != 0.0\n",
    "\n",
    "for sim in range(0, 1):    \n",
    "    data, speed, theta = extract_and_realign(benchmark.train_dataset, sim)\n",
    "    parents = identify_parents(data, sim)\n",
    "    surface = get_surface(data)\n",
    "\n",
    "    # Build train data\n",
    "    for idx in tqdm(range(0, len(data))):\n",
    "        train_x.append(transform_x(idx, data, parents, surface, speed, theta))\n",
    "        # train_x_raw.append(data[idx,:])\n",
    "        train_y.append(transform_y(data[idx, X_VEL:], [is_surface(data[idx])]))    \n",
    "        # train_y_raw.append(data[idx, X_VEL:])\n",
    "\n",
    "print(len(train_x))\n",
    "train_x = np.vstack(train_x)\n",
    "# train_x_raw = np.vstack(train_x_raw)\n",
    "train_y = np.vstack(train_y)\n",
    "# train_y_raw = np.vstack(train_y_raw)"
   ]
  },
  {
   "cell_type": "code",
   "execution_count": null,
   "metadata": {},
   "outputs": [],
   "source": [
    "import torch\n",
    "import torch.nn as nn\n",
    "import torch.nn.functional as F\n",
    "from torch.utils.tensorboard import SummaryWriter\n",
    "from datetime import datetime\n",
    "\n",
    "class AirfoilMLP(nn.Module):\n",
    "    def __init__(self, feature_count):\n",
    "        super(AirfoilMLP, self).__init__()\n",
    "        self.fc1 = nn.Linear(feature_count, 100)\n",
    "        self.fc2 = nn.Linear(100, 100)\n",
    "        self.fc3 = nn.Linear(100, 4)\n",
    "        self.dropout = nn.Dropout(p=0.25)\n",
    "    \n",
    "    def forward(self, x):\n",
    "        x = F.relu(self.fc1(x))\n",
    "        x = self.dropout(x)\n",
    "        x = F.relu(self.fc2(x))\n",
    "        x = self.dropout(x)\n",
    "        x = self.fc3(x)\n",
    "        return x\n",
    "\n",
    "\n"
   ]
  },
  {
   "cell_type": "code",
   "execution_count": null,
   "metadata": {},
   "outputs": [],
   "source": [
    "# https://pytorch.org/tutorials/beginner/introyt/trainingyt.html\n",
    "\n",
    "model = AirfoilMLP(train_x.shape[1])\n",
    "\n",
    "loss_fn = torch.nn.L1Loss()\n",
    "device = torch.device('cuda:0')\n",
    "model.to(device)\n",
    "\n",
    "BATCH_SIZE = 1000\n",
    "LR = 0.001\n",
    "\n",
    "optimizer = torch.optim.Adam(model.parameters(), lr=LR)\n",
    "\n",
    "def train_one_epoch(epoch_index, tb_writer):\n",
    "    running_loss = 0.\n",
    "    last_loss = 0.\n",
    "\n",
    "    # Here, we use enumerate(training_loader) instead of\n",
    "    # iter(training_loader) so that we can track the batch\n",
    "    # index and do some intra-epoch reporting\n",
    "    for i, data in enumerate(training_loader):\n",
    "        # Every data instance is an input + label pair\n",
    "        inputs, labels = data\n",
    "        inputs = inputs.to(torch.float32).to(device)\n",
    "        labels = labels.to(torch.float32).to(device)\n",
    "\n",
    "        # Zero your gradients for every batch!\n",
    "        optimizer.zero_grad()\n",
    "\n",
    "        # Make predictions for this batch\n",
    "        outputs = model(inputs)\n",
    "\n",
    "        # Compute the loss and its gradients\n",
    "        loss = loss_fn(outputs, labels)\n",
    "        loss.backward()\n",
    "\n",
    "        # Adjust learning weights\n",
    "        optimizer.step()\n",
    "\n",
    "        # Gather data and report\n",
    "        running_loss += loss.cpu().detach().item()\n",
    "        if i % 1000 == 999:\n",
    "            last_loss = running_loss / 1000 # loss per batch\n",
    "            print('  batch {} loss: {}'.format(i + 1, last_loss))\n",
    "            tb_x = epoch_index * len(training_loader) + i + 1\n",
    "            tb_writer.add_scalar('Loss/train', last_loss, tb_x)\n",
    "            running_loss = 0.\n",
    "\n",
    "    return last_loss\n",
    "\n",
    "# Initializing in a separate cell so we can easily add more epochs to the same run\n",
    "timestamp = datetime.now().strftime('%Y%m%d_%H%M%S')\n",
    "writer = SummaryWriter('runs/fashion_trainer_{}'.format(timestamp))\n",
    "epoch_number = 0\n",
    "\n",
    "training_loader = torch.utils.data.DataLoader(list(zip(train_x, train_y)), batch_size=BATCH_SIZE, shuffle=True)\n",
    "validation_loader = torch.utils.data.DataLoader(list(zip(test_x, test_y)), batch_size=BATCH_SIZE, shuffle=True)\n",
    "\n",
    "EPOCHS = 10\n",
    "\n",
    "best_vloss = 1_000_000.\n",
    "\n",
    "for epoch in range(EPOCHS):\n",
    "    print('EPOCH {}:'.format(epoch_number + 1))\n",
    "\n",
    "    # Make sure gradient tracking is on, and do a pass over the data\n",
    "    model.train(True)\n",
    "    avg_loss = train_one_epoch(epoch_number, writer)\n",
    "\n",
    "\n",
    "    running_vloss = 0.0\n",
    "    # Set the model to evaluation mode, disabling dropout and using population\n",
    "    # statistics for batch normalization.\n",
    "    model.eval()\n",
    "\n",
    "    # Disable gradient computation and reduce memory consumption.\n",
    "    with torch.no_grad():\n",
    "        for i, vdata in enumerate(validation_loader):\n",
    "            vinputs, vlabels = vdata\n",
    "            vinputs = vinputs.to(torch.float32).to(device)\n",
    "            vlabels = vlabels.to(torch.float32).to(device)\n",
    "            voutputs = model(vinputs)\n",
    "            vloss = loss_fn(voutputs, vlabels).cpu().detach()\n",
    "            running_vloss += vloss\n",
    "\n",
    "    avg_vloss = running_vloss / (i + 1)\n",
    "    print('LOSS train {} valid {}'.format(avg_loss, avg_vloss))\n",
    "\n",
    "    # Log the running loss averaged per batch\n",
    "    # for both training and validation\n",
    "    writer.add_scalars('Training vs. Validation Loss',\n",
    "                    { 'Training' : avg_loss, 'Validation' : avg_vloss },\n",
    "                    epoch_number + 1)\n",
    "    writer.flush()\n",
    "\n",
    "    # Track best performance, and save the model's state\n",
    "    if avg_vloss < best_vloss:\n",
    "        best_vloss = avg_vloss\n",
    "        model_path = 'model_{}_{}'.format(timestamp, epoch_number)\n",
    "        torch.save(model.state_dict(), model_path)\n",
    "\n",
    "    epoch_number += 1"
   ]
  },
  {
   "cell_type": "code",
   "execution_count": null,
   "metadata": {},
   "outputs": [],
   "source": [
    "# Start doing progressive scan testing!\n",
    "sim = 51\n",
    "\n",
    "test_x = []\n",
    "test_y = []\n",
    "\n",
    "data, speed, theta = extract_and_realign(benchmark.train_dataset, sim)\n",
    "parents = identify_parents(data, sim)\n",
    "surface = get_surface(data)\n",
    "\n",
    "# Build test data\n",
    "for idx in tqdm(range(0, len(data))):\n",
    "    test_x.append(transform_x(idx, data, parents, surface, speed, theta))\n",
    "    test_y.append(transform_y(data[idx, X_VEL:], [is_surface(data[idx])]))\n",
    "  \n",
    "\n",
    "test_x = np.vstack(test_x)\n",
    "test_y = np.vstack(test_y)\n",
    "test_y_raw = data[:, X_VEL:]"
   ]
  },
  {
   "cell_type": "code",
   "execution_count": null,
   "metadata": {},
   "outputs": [],
   "source": [
    "test_prog = []\n",
    "testbed = np.copy(data)\n",
    "testbed[:, X_VEL:] = 0.0\n",
    "test_parents = parents\n",
    "\n",
    "model.eval()\n",
    "for idx in tqdm(range(0, testbed.shape[0])):\n",
    "    # features = np.expand_dims(transform_x(idx, data, test_parents, surface, speed, theta), 0) # NOT SCANNING!!!!\n",
    "    features = np.expand_dims(transform_x(idx, testbed, test_parents, surface, speed, theta), 0)\n",
    "\n",
    "    y_pred = model.forward(torch.from_numpy(features).to(torch.float32).to(device)).cpu().detach().numpy()\n",
    "\n",
    "    # Update testbed with new predictions so they can be used as parents\n",
    "    testbed[idx, X_VEL:] = untransform_y(y_pred)\n",
    "    # testbed[idx, X_VEL:] = untransform_y(np.array([pred_vel_theta, pred_speed, pred_press, pred_turb]))\n"
   ]
  },
  {
   "cell_type": "code",
   "execution_count": null,
   "metadata": {},
   "outputs": [],
   "source": [
    "q = X_VEL\n",
    "print(np.max(testbed[:, q]))\n",
    "print(np.min(testbed[:, q]))\n",
    "print(np.max(data[:, q]))\n",
    "print(np.min(data[:, q]))\n",
    "np.argmax(abs(testbed[:, q] - data[:, q]))"
   ]
  },
  {
   "cell_type": "code",
   "execution_count": null,
   "metadata": {},
   "outputs": [],
   "source": [
    "print(data[42912, :])\n",
    "print(testbed[42912, :])"
   ]
  },
  {
   "cell_type": "code",
   "execution_count": null,
   "metadata": {},
   "outputs": [],
   "source": [
    "for i in range(X_VEL, TURB+1):\n",
    "    print(np.sqrt(mean_squared_error(testbed[:, i], data[:, i])) / np.mean(np.abs(data[:, i])))"
   ]
  },
  {
   "cell_type": "code",
   "execution_count": null,
   "metadata": {},
   "outputs": [],
   "source": [
    "q = PRESS\n",
    "\n",
    "plt.figure()\n",
    "errors = testbed[:, q] - data[:, q]\n",
    "plt.scatter(range(0, len(testbed)), errors, s=0.1)\n",
    "plt.show()"
   ]
  },
  {
   "cell_type": "code",
   "execution_count": null,
   "metadata": {},
   "outputs": [],
   "source": [
    "print(testbed[50000, X_VEL:])\n",
    "print(data[50000, X_VEL:])"
   ]
  },
  {
   "cell_type": "code",
   "execution_count": null,
   "metadata": {},
   "outputs": [],
   "source": [
    "fig, ax = plt.subplots(2, 2, figsize = (36, 12))\n",
    "sc0 = ax[0, 0].scatter(testbed[:, 0], testbed[:, 1], c = testbed[:, X_VEL], s = 0.75)\n",
    "ax[0, 0].title.set_text('Velocity along x')\n",
    "plt.colorbar(sc0)\n",
    "sc1 = ax[0, 1].scatter(testbed[:, 0], testbed[:, 1], c = testbed[:, PRESS], s = 0.75)\n",
    "ax[0, 1].title.set_text('Pressure')\n",
    "plt.colorbar(sc1)\n",
    "sc2 = ax[1, 0].scatter(testbed[:, 0], testbed[:, 1], c = testbed[:, Y_VEL], s = 0.75)\n",
    "ax[1, 0].title.set_text('Velocity along y')\n",
    "plt.colorbar(sc2)\n",
    "sc3 = ax[1, 1].scatter(testbed[:, 0], testbed[:, 1], c = testbed[:, TURB], s = 0.75)\n",
    "ax[1, 1].title.set_text('Kinematic turbulent viscosity')\n",
    "plt.colorbar(sc3)\n",
    "plt.show()"
   ]
  },
  {
   "cell_type": "code",
   "execution_count": null,
   "metadata": {},
   "outputs": [],
   "source": [
    "# fig, ax = plt.subplots(2, 2, figsize = (36, 12))\n",
    "# sc0 = ax[0, 0].scatter(testbed[:, 0], testbed[:, 1], c = testbed[:, X_VEL], s = 0.75)\n",
    "# ax[0, 0].title.set_text('Velocity along x')\n",
    "# plt.colorbar(sc0)\n",
    "# plt.plot()\n",
    "# sc1 = ax[0, 1].scatter(testbed[:, 0], testbed[:, 1], c = testbed[:, PRESS], s = 0.75)\n",
    "sc1 = plt.scatter(testbed[:, 0], testbed[:, 1], c = testbed[:, PRESS], s = 0.75, vmin=-750, vmax=1250)\n",
    "plt.title('Pressure')\n",
    "# ax[0, 1].title.set_text('Pressure')\n",
    "plt.colorbar(sc1)\n",
    "# sc2 = ax[1, 0].scatter(testbed[:, 0], testbed[:, 1], c = testbed[:, Y_VEL], s = 0.75)\n",
    "# ax[1, 0].title.set_text('Velocity along y')\n",
    "# plt.colorbar(sc2)\n",
    "# sc3 = ax[1, 1].scatter(testbed[:, 0], testbed[:, 1], c = testbed[:, TURB], s = 0.75)\n",
    "# ax[1, 1].title.set_text('Kinematic turbulent viscosity')\n",
    "# plt.colorbar(sc3)\n",
    "plt.show()"
   ]
  },
  {
   "cell_type": "code",
   "execution_count": null,
   "metadata": {},
   "outputs": [],
   "source": [
    "fig, ax = plt.subplots(2, 2, figsize = (36, 12))\n",
    "sc0 = ax[0, 0].scatter(data[:, 0], data[:, 1], c = data[:, X_VEL], s = 0.75)\n",
    "ax[0, 0].title.set_text('Velocity along x')\n",
    "plt.colorbar(sc0)\n",
    "sc1 = ax[0, 1].scatter(data[:, 0], data[:, 1], c = data[:, PRESS], s = 0.75)\n",
    "ax[0, 1].title.set_text('Pressure')\n",
    "plt.colorbar(sc1)\n",
    "sc2 = ax[1, 0].scatter(data[:, 0], data[:, 1], c = data[:, Y_VEL], s = 0.75)\n",
    "ax[1, 0].title.set_text('Velocity along y')\n",
    "plt.colorbar(sc2)\n",
    "sc3 = ax[1, 1].scatter(data[:, 0], data[:, 1], c = data[:, TURB], s = 0.75)\n",
    "ax[1, 1].title.set_text('Kinematic turbulent viscosity')\n",
    "plt.colorbar(sc3)\n",
    "plt.show()"
   ]
  },
  {
   "cell_type": "code",
   "execution_count": null,
   "metadata": {},
   "outputs": [],
   "source": [
    "fig, ax = plt.subplots(2, 2, figsize = (36, 12))\n",
    "sc0 = ax[0, 0].scatter(data[:, 0], data[:, 1], c = testbed[:, X_VEL] - data[:, X_VEL], s = 0.75)\n",
    "ax[0, 0].title.set_text('Velocity along x')\n",
    "plt.colorbar(sc0)\n",
    "sc1 = ax[0, 1].scatter(data[:, 0], data[:, 1], c = testbed[:, PRESS] - data[:, PRESS], s = 0.75)\n",
    "ax[0, 1].title.set_text('Pressure')\n",
    "plt.colorbar(sc1)\n",
    "sc2 = ax[1, 0].scatter(data[:, 0], data[:, 1], c = testbed[:, Y_VEL] - data[:, Y_VEL], s = 0.75)\n",
    "ax[1, 0].title.set_text('Velocity along y')\n",
    "plt.colorbar(sc2)\n",
    "sc3 = ax[1, 1].scatter(data[:, 0], data[:, 1], c = testbed[:, TURB] - data[:, TURB], s = 0.75)\n",
    "ax[1, 1].title.set_text('Kinematic turbulent viscosity')\n",
    "plt.colorbar(sc3)\n",
    "plt.show()"
   ]
  },
  {
   "cell_type": "code",
   "execution_count": null,
   "metadata": {},
   "outputs": [],
   "source": [
    "fig, ax = plt.subplots(2, 2, figsize = (36, 12))\n",
    "sc0 = ax[0, 0].scatter(train_x[:170000, 0], train_x[:170000, 1], c = train_y[:170000, 0], s = 0.75)\n",
    "ax[0, 0].title.set_text('Velocity along x')\n",
    "plt.colorbar(sc0)\n",
    "sc1 = ax[0, 1].scatter(train_x[:170000, 0], train_x[:170000, 1], c = train_y[:170000, 1], s = 0.75)\n",
    "ax[0, 1].title.set_text('y')\n",
    "plt.colorbar(sc1)\n",
    "sc2 = ax[1, 0].scatter(train_x[:170000, 0], train_x[:170000, 1], c = train_y[:170000, 2], s = 0.75)\n",
    "ax[1, 0].title.set_text('p')\n",
    "plt.colorbar(sc2)\n",
    "sc3 = ax[1, 1].scatter(train_x[:170000, 0], train_x[:170000, 1], c = train_y[:170000, 3], s = 0.75)\n",
    "ax[1, 1].title.set_text('Kinematic turbulent viscosity')\n",
    "plt.colorbar(sc3)\n",
    "plt.show()"
   ]
  },
  {
   "cell_type": "code",
   "execution_count": null,
   "metadata": {},
   "outputs": [],
   "source": [
    "q = np.copy(testbed)\n",
    "in_vector = q[0,X_INLET:Y_INLET+1]\n",
    "speed = np.linalg.norm(in_vector)\n",
    "in_vector /= speed\n",
    "print(speed)\n",
    "print(in_vector)\n",
    "theta = np.arccos(np.maximum(-1, np.minimum(1,np.array([1,0]).dot(in_vector))))\n",
    "if(in_vector[1] < 0): # Rotate clockwise if vector above 0\n",
    "    theta = -theta\n",
    "\n",
    "print(theta)\n",
    "\n",
    "def rotate(point, angle):\n",
    "    rot_matrix = np.array([[np.cos(angle), -np.sin(angle)],[np.sin(angle), np.cos(angle)]])\n",
    "    return point.dot(rot_matrix)\n",
    "\n",
    "print(q[0,:2])\n",
    "print(rotate(q[:,:2], theta))\n",
    "q[:,:2] = rotate(q[:,:2], theta)\n",
    "q[:,X_NORMAL:Y_NORMAL+1] = rotate(q[:,X_NORMAL:Y_NORMAL+1], theta)\n",
    "\n",
    "surface = q[np.where(np.logical_or(q[:,X_NORMAL] != 0.0, q[:,Y_NORMAL] != 0.0))]\n",
    "\n",
    "closest = surface[np.argmin(np.linalg.norm(surface[:,:2] - np.array([3, 0.0]), axis=1))]\n",
    "closest[:2]"
   ]
  },
  {
   "cell_type": "code",
   "execution_count": null,
   "metadata": {},
   "outputs": [],
   "source": [
    "first_ds = extract_dataset_by_simulation(\"BySim\", benchmark.train_dataset, 0)\n",
    "np.sum(first_ds.extra_data['surface'])"
   ]
  },
  {
   "cell_type": "code",
   "execution_count": null,
   "metadata": {},
   "outputs": [],
   "source": [
    "train_y.shape"
   ]
  },
  {
   "cell_type": "code",
   "execution_count": null,
   "metadata": {},
   "outputs": [],
   "source": [
    "fig, ax = plt.subplots(2, 2, figsize = (36, 12))\n",
    "sc0 = ax[0, 0].scatter(data[:, 0], data[:, 1], c = testbed[:, X_VEL] - data[:, X_VEL], s = 0.75)\n",
    "ax[0, 0].title.set_text('Velocity along x')\n",
    "plt.colorbar(sc0)\n",
    "sc1 = ax[0, 1].scatter(data[:, 0], data[:, 1], c = testbed[:, PRESS] - data[:, PRESS], s = 0.75)\n",
    "ax[0, 1].title.set_text('Pressure')\n",
    "plt.colorbar(sc1)\n",
    "sc2 = ax[1, 0].scatter(data[:, 0], data[:, 1], c = testbed[:, Y_VEL] - data[:, Y_VEL], s = 0.75)\n",
    "ax[1, 0].title.set_text('Velocity along y')\n",
    "plt.colorbar(sc2)\n",
    "sc3 = ax[1, 1].scatter(data[:, 0], data[:, 1], c = testbed[:, TURB] - data[:, TURB], s = 0.75)\n",
    "ax[1, 1].title.set_text('Kinematic turbulent viscosity')\n",
    "plt.colorbar(sc3)\n",
    "plt.show()"
   ]
  },
  {
   "cell_type": "code",
   "execution_count": null,
   "metadata": {},
   "outputs": [],
   "source": [
    "train_y = untransform_y(train_y)"
   ]
  },
  {
   "cell_type": "code",
   "execution_count": null,
   "metadata": {},
   "outputs": [],
   "source": [
    "\n",
    "\n",
    "fig, ax = plt.subplots(2, 2, figsize = (36, 12))\n",
    "sc0 = ax[0, 0].scatter(train_x[:, 0], train_x[:, 1], c = train_y[:, 0], s = 0.75)\n",
    "ax[0, 0].title.set_text('Velocity along x')\n",
    "plt.colorbar(sc0)\n",
    "sc1 = ax[0, 1].scatter(train_x[:, 0], train_x[:, 1], c = train_y[:, 1], s = 0.75)\n",
    "ax[0, 1].title.set_text('y')\n",
    "plt.colorbar(sc1)\n",
    "sc2 = ax[1, 0].scatter(train_x[:, 0], train_x[:, 1], c = train_y[:, 2], s = 0.75)\n",
    "ax[1, 0].title.set_text('p')\n",
    "plt.colorbar(sc2)\n",
    "sc3 = ax[1, 1].scatter(train_x[:, 0], train_x[:, 1], c = train_y[:, 3], s = 0.75)\n",
    "ax[1, 1].title.set_text('Kinematic turbulent viscosity')\n",
    "plt.colorbar(sc3)\n",
    "\n",
    "scale = 0.0001\n",
    "for a in [ax[0,0], ax[0,1], ax[1,0], ax[1,1]]:\n",
    "    a.set_xlim([-scale,scale])\n",
    "    a.set_ylim([-scale,scale])\n",
    "\n",
    "plt.show()"
   ]
  },
  {
   "cell_type": "code",
   "execution_count": 58,
   "metadata": {},
   "outputs": [
    {
     "name": "stdout",
     "output_type": "stream",
     "text": [
      "[[-5.40997689e-06 -8.93106426e-06]\n",
      " [-3.26154259e-06 -7.59439490e-06]\n",
      " [-1.26299881e-06 -6.35098195e-06]\n",
      " [-4.32940510e-07 -5.12397201e-05]\n",
      " [ 1.70361147e-06 -4.98913723e-05]\n",
      " [ 3.69110171e-06 -4.86370955e-05]\n",
      " [-1.01101405e-05  3.23641434e-05]\n",
      " [-7.94985499e-06  3.36888443e-05]\n",
      " [-5.94028688e-06  3.49211223e-05]]\n",
      "[[ 1.45710995e-02 -1.26092166e-01 -1.03737809e-01  4.72364770e-09]\n",
      " [ 9.56382975e-03 -8.28355998e-02 -1.03462972e-01  4.89466512e-09]\n",
      " [ 4.77530994e-03 -4.10020687e-02 -1.03196248e-01  5.17893506e-09]\n",
      " [ 1.50684901e-02 -1.26158997e-01 -1.14385627e-01  4.70473793e-09]\n",
      " [ 9.88984387e-03 -8.28725696e-02 -1.14109218e-01  4.87515228e-09]\n",
      " [ 4.93649999e-03 -4.10171300e-02 -1.13841094e-01  5.15826537e-09]\n",
      " [ 1.40874768e-02 -1.26034096e-01 -9.33720320e-02  4.74387774e-09]\n",
      " [ 9.24681686e-03 -8.28041360e-02 -9.30989087e-02  4.91553021e-09]\n",
      " [ 4.61853994e-03 -4.09897678e-02 -9.28339064e-02  5.20103782e-09]]\n"
     ]
    },
    {
     "data": {
      "image/png": "[encoded data removed]",
      "text/plain": [
       "<Figure size 640x480 with 2 Axes>"
      ]
     },
     "metadata": {},
     "output_type": "display_data"
    }
   ],
   "source": [
    "dists = np.linalg.norm(train_x[:,:2], ord=2, axis=1)\n",
    "\n",
    "# count = 50\n",
    "# print(np.argsort(dists)[:count])\n",
    "# small_x = train_x[np.argsort(dists)[:count],:2]\n",
    "# small_y = train_y[np.argsort(dists)[:count],:2]\n",
    "\n",
    "index_list = [45394, 45415, 45432, 45438, 45458, 45484, 45331, 45358, 45390]\n",
    "small_x = train_x[index_list,:2]\n",
    "small_y = train_y[index_list,:]\n",
    "print(small_x)\n",
    "print(small_y)\n",
    "\n",
    "fig=plt.figure()\n",
    "ax=fig.add_subplot(111)\n",
    "sc0 = ax.scatter(small_x[:, 0], small_x[:, 1], c = small_y[:, 0], s = 0.75)\n",
    "\n",
    "plt.colorbar(sc0)\n",
    "\n",
    "scale = 0.0001\n",
    "ax.xlim = [-scale,scale]\n",
    "ax.ylim = [-scale,scale]\n",
    "\n",
    "plt.show()"
   ]
  },
  {
   "cell_type": "code",
   "execution_count": 95,
   "metadata": {},
   "outputs": [],
   "source": [
    "def area_Voronoi(origin, neighbors): # Neighbors listed in counterclockwise order!\n",
    "    area = 0.0\n",
    "    total_area = 0.0\n",
    "    for neighbor, idx in zip(neighbors, range(0, len(neighbors))):\n",
    "        counter_clock_n = neighbors[(idx+1) % len(neighbors)]\n",
    "        # counter_clock_n = (idx+len(neighbors)-1) % len(neighbors)\n",
    "        # alpha_ij = angle_between(neighbor-neighbors[clock_n], origin-neighbors[clock_n])\n",
    "        # beta_ij = angle_between(neighbor-neighbors[counter_clock_n], origin-neighbors[counter_clock_n])\n",
    "        # dist_sq = np.linalg.norm(origin - neighbor,ord=2)**2\n",
    "        ang_P = angle_between(neighbor-origin, counter_clock_n-origin)\n",
    "        ang_Q = angle_between(origin-neighbor, counter_clock_n-neighbor)\n",
    "        # ang_R = angle_between(clock_n-neighbor, clock_n-origin)\n",
    "        ang_R = np.pi - ang_P - ang_Q\n",
    "\n",
    "        PQ = np.linalg.norm(origin-neighbor, ord=2)\n",
    "        PR = np.linalg.norm(origin-counter_clock_n, ord=2)\n",
    "\n",
    "        # If all angles are acute, can use Voronoi area\n",
    "        if max(ang_P, ang_Q, ang_R) < np.pi/2:\n",
    "            a = ((PR**2)/np.tan(ang_Q) + (PQ**2)/np.tan(ang_Q))/8\n",
    "            area += a\n",
    "        else: # There is an obtuse angle\n",
    "            T = PQ*PR*np.sin(ang_P)\n",
    "            total_area += T\n",
    "            # Determine if angle at origin is obtuse, add accordingly\n",
    "            if ang_P > np.pi/2:\n",
    "                area += T/2\n",
    "            else:\n",
    "                area += T/4\n",
    "    return area\n",
    "\n",
    "def area_barycentric(origin, neighbors): # Neighbors listed in counterclockwise order!\n",
    "    area = 0.0\n",
    "    total_angle = 0.0\n",
    "    for neighbor, idx in zip(neighbors, range(0, len(neighbors))):\n",
    "        counter_clock_n = neighbors[(idx+1) % len(neighbors)]\n",
    "        ang_P = angle_between(neighbor-origin, counter_clock_n-origin)\n",
    "        total_angle += ang_P\n",
    "        # ang_Q = angle_between(origin-neighbor, counter_clock_n-neighbor)\n",
    "        # # ang_R = angle_between(clock_n-neighbor, clock_n-origin)\n",
    "        # ang_R = np.pi - ang_P - ang_Q\n",
    "\n",
    "        PQ = np.linalg.norm(origin-neighbor, ord=2)\n",
    "        PR = np.linalg.norm(origin-counter_clock_n, ord=2)\n",
    "\n",
    "        T = PQ*PR*np.sin(ang_P)\n",
    "        area += T/3\n",
    "    return area\n",
    "\n",
    "# Calculate mean curvature normal for a point and its 1-ring neighbors (listed counterclockwise)\n",
    "def mean_curvature_normal(origin, neighbors):\n",
    "    mixed_area = area_Voronoi(origin, neighbors)\n",
    "    # mixed_area = area_barycentric(origin, neighbors)\n",
    "\n",
    "    output = np.zeros_like(origin)\n",
    "    for neighbor, idx in zip(neighbors, range(0, len(neighbors))):\n",
    "        counter_clock_n = neighbors[(idx+1) % len(neighbors)]\n",
    "        clock_n = neighbors[(idx+len(neighbors)-1) % len(neighbors)]\n",
    "        alpha_ij = angle_between(neighbor-clock_n, origin-clock_n)\n",
    "        beta_ij = angle_between(neighbor-counter_clock_n, origin-counter_clock_n)\n",
    "        output += (1/np.tan(alpha_ij) + 1/np.tan(beta_ij))*(origin - neighbor)\n",
    "    output /= (2*mixed_area)\n",
    "    # output /= np.linalg.norm(output, ord=2)\n",
    "\n",
    "    return output"
   ]
  },
  {
   "cell_type": "code",
   "execution_count": 97,
   "metadata": {},
   "outputs": [
    {
     "name": "stdout",
     "output_type": "stream",
     "text": [
      "[-3.26154259e-06 -7.59439490e-06  9.56382975e-03]\n",
      "5.14450786244907e-07\n",
      "5.487995059277721e-07\n",
      "[-3.06903984e+01 -3.64963602e+00 -1.39675872e-02]\n",
      "[2197.25841596  261.29323379]\n"
     ]
    }
   ],
   "source": [
    "\n",
    "import plotly.graph_objects as go\n",
    "\n",
    "focus = 0\n",
    "\n",
    "origin = np.hstack([small_x[1], small_y[1,focus]])\n",
    "print(origin)\n",
    "\n",
    "neighbors = np.hstack([small_x[0], small_y[0,focus]])\n",
    "for i in [3,4,5,2,8,7,6]:\n",
    "    neighbors = np.vstack([neighbors, np.hstack([small_x[i], small_y[i,0]])])\n",
    "\n",
    "neighbors\n",
    "\n",
    "area = area_Voronoi(origin, neighbors)\n",
    "print(area)\n",
    "area = area_barycentric(origin, neighbors)\n",
    "print(area)\n",
    "K = mean_curvature_normal(origin, neighbors)\n",
    "print(K)\n",
    "# K = K / np.linalg.norm(K)\n",
    "\n",
    "print(K[0:2] / K[2])\n",
    "\n",
    "# norm = K / np.linalg.norm(K, ord=2)\n",
    "# print(norm)\n",
    "\n",
    "# fig = go.Figure(data=[go.Mesh3d(x=small_x[:,0], y=small_x[:,1], z=small_y[:,focus], color='lightpink', opacity=0.50)])\n",
    "# fig.show()"
   ]
  },
  {
   "cell_type": "code",
   "execution_count": 50,
   "metadata": {},
   "outputs": [
    {
     "data": {
      "application/vnd.plotly.v1+json": {
       "config": {
        "plotlyServerURL": "https://plot.ly"
       },
       "data": [
        {
         "color": "lightpink",
         "opacity": 0.5,
         "type": "mesh3d",
         "x": [
          -0.000005409976893133717,
          -0.000003261542588006705,
          -0.0000012629988077605958,
          -4.3294051010889234e-7,
          0.0000017036114741131314,
          0.0000036911017105012434,
          -0.000010110140465258155,
          -0.000007949854989419691,
          -0.000005940286882832879
         ],
         "y": [
          -0.000008931064257922117,
          -0.000007594394901389023,
          -0.00000635098194834427,
          -0.000051239720050944015,
          -0.00004989137232769281,
          -0.000048637095460435376,
          0.00003236414340790361,
          0.000033688844268908724,
          0.00003492112227831967
         ],
         "z": [
          0.014571099542081356,
          0.009563829749822617,
          0.004775309935212135,
          0.01506849005818367,
          0.009889843873679638,
          0.004936499986797571,
          0.014087476767599583,
          0.009246816858649254,
          0.0046185399405658245
         ]
        }
       ],
       "layout": {
        "template": {
         "data": {
          "bar": [
           {
            "error_x": {
             "color": "#2a3f5f"
            },
            "error_y": {
             "color": "#2a3f5f"
            },
            "marker": {
             "line": {
              "color": "#E5ECF6",
              "width": 0.5
             },
             "pattern": {
              "fillmode": "overlay",
              "size": 10,
              "solidity": 0.2
             }
            },
            "type": "bar"
           }
          ],
          "barpolar": [
           {
            "marker": {
             "line": {
              "color": "#E5ECF6",
              "width": 0.5
             },
             "pattern": {
              "fillmode": "overlay",
              "size": 10,
              "solidity": 0.2
             }
            },
            "type": "barpolar"
           }
          ],
          "carpet": [
           {
            "aaxis": {
             "endlinecolor": "#2a3f5f",
             "gridcolor": "white",
             "linecolor": "white",
             "minorgridcolor": "white",
             "startlinecolor": "#2a3f5f"
            },
            "baxis": {
             "endlinecolor": "#2a3f5f",
             "gridcolor": "white",
             "linecolor": "white",
             "minorgridcolor": "white",
             "startlinecolor": "#2a3f5f"
            },
            "type": "carpet"
           }
          ],
          "choropleth": [
           {
            "colorbar": {
             "outlinewidth": 0,
             "ticks": ""
            },
            "type": "choropleth"
           }
          ],
          "contour": [
           {
            "colorbar": {
             "outlinewidth": 0,
             "ticks": ""
            },
            "colorscale": [
             [
              0,
              "#0d0887"
             ],
             [
              0.1111111111111111,
              "#46039f"
             ],
             [
              0.2222222222222222,
              "#7201a8"
             ],
             [
              0.3333333333333333,
              "#9c179e"
             ],
             [
              0.4444444444444444,
              "#bd3786"
             ],
             [
              0.5555555555555556,
              "#d8576b"
             ],
             [
              0.6666666666666666,
              "#ed7953"
             ],
             [
              0.7777777777777778,
              "#fb9f3a"
             ],
             [
              0.8888888888888888,
              "#fdca26"
             ],
             [
              1,
              "#f0f921"
             ]
            ],
            "type": "contour"
           }
          ],
          "contourcarpet": [
           {
            "colorbar": {
             "outlinewidth": 0,
             "ticks": ""
            },
            "type": "contourcarpet"
           }
          ],
          "heatmap": [
           {
            "colorbar": {
             "outlinewidth": 0,
             "ticks": ""
            },
            "colorscale": [
             [
              0,
              "#0d0887"
             ],
             [
              0.1111111111111111,
              "#46039f"
             ],
             [
              0.2222222222222222,
              "#7201a8"
             ],
             [
              0.3333333333333333,
              "#9c179e"
             ],
             [
              0.4444444444444444,
              "#bd3786"
             ],
             [
              0.5555555555555556,
              "#d8576b"
             ],
             [
              0.6666666666666666,
              "#ed7953"
             ],
             [
              0.7777777777777778,
              "#fb9f3a"
             ],
             [
              0.8888888888888888,
              "#fdca26"
             ],
             [
              1,
              "#f0f921"
             ]
            ],
            "type": "heatmap"
           }
          ],
          "heatmapgl": [
           {
            "colorbar": {
             "outlinewidth": 0,
             "ticks": ""
            },
            "colorscale": [
             [
              0,
              "#0d0887"
             ],
             [
              0.1111111111111111,
              "#46039f"
             ],
             [
              0.2222222222222222,
              "#7201a8"
             ],
             [
              0.3333333333333333,
              "#9c179e"
             ],
             [
              0.4444444444444444,
              "#bd3786"
             ],
             [
              0.5555555555555556,
              "#d8576b"
             ],
             [
              0.6666666666666666,
              "#ed7953"
             ],
             [
              0.7777777777777778,
              "#fb9f3a"
             ],
             [
              0.8888888888888888,
              "#fdca26"
             ],
             [
              1,
              "#f0f921"
             ]
            ],
            "type": "heatmapgl"
           }
          ],
          "histogram": [
           {
            "marker": {
             "pattern": {
              "fillmode": "overlay",
              "size": 10,
              "solidity": 0.2
             }
            },
            "type": "histogram"
           }
          ],
          "histogram2d": [
           {
            "colorbar": {
             "outlinewidth": 0,
             "ticks": ""
            },
            "colorscale": [
             [
              0,
              "#0d0887"
             ],
             [
              0.1111111111111111,
              "#46039f"
             ],
             [
              0.2222222222222222,
              "#7201a8"
             ],
             [
              0.3333333333333333,
              "#9c179e"
             ],
             [
              0.4444444444444444,
              "#bd3786"
             ],
             [
              0.5555555555555556,
              "#d8576b"
             ],
             [
              0.6666666666666666,
              "#ed7953"
             ],
             [
              0.7777777777777778,
              "#fb9f3a"
             ],
             [
              0.8888888888888888,
              "#fdca26"
             ],
             [
              1,
              "#f0f921"
             ]
            ],
            "type": "histogram2d"
           }
          ],
          "histogram2dcontour": [
           {
            "colorbar": {
             "outlinewidth": 0,
             "ticks": ""
            },
            "colorscale": [
             [
              0,
              "#0d0887"
             ],
             [
              0.1111111111111111,
              "#46039f"
             ],
             [
              0.2222222222222222,
              "#7201a8"
             ],
             [
              0.3333333333333333,
              "#9c179e"
             ],
             [
              0.4444444444444444,
              "#bd3786"
             ],
             [
              0.5555555555555556,
              "#d8576b"
             ],
             [
              0.6666666666666666,
              "#ed7953"
             ],
             [
              0.7777777777777778,
              "#fb9f3a"
             ],
             [
              0.8888888888888888,
              "#fdca26"
             ],
             [
              1,
              "#f0f921"
             ]
            ],
            "type": "histogram2dcontour"
           }
          ],
          "mesh3d": [
           {
            "colorbar": {
             "outlinewidth": 0,
             "ticks": ""
            },
            "type": "mesh3d"
           }
          ],
          "parcoords": [
           {
            "line": {
             "colorbar": {
              "outlinewidth": 0,
              "ticks": ""
             }
            },
            "type": "parcoords"
           }
          ],
          "pie": [
           {
            "automargin": true,
            "type": "pie"
           }
          ],
          "scatter": [
           {
            "fillpattern": {
             "fillmode": "overlay",
             "size": 10,
             "solidity": 0.2
            },
            "type": "scatter"
           }
          ],
          "scatter3d": [
           {
            "line": {
             "colorbar": {
              "outlinewidth": 0,
              "ticks": ""
             }
            },
            "marker": {
             "colorbar": {
              "outlinewidth": 0,
              "ticks": ""
             }
            },
            "type": "scatter3d"
           }
          ],
          "scattercarpet": [
           {
            "marker": {
             "colorbar": {
              "outlinewidth": 0,
              "ticks": ""
             }
            },
            "type": "scattercarpet"
           }
          ],
          "scattergeo": [
           {
            "marker": {
             "colorbar": {
              "outlinewidth": 0,
              "ticks": ""
             }
            },
            "type": "scattergeo"
           }
          ],
          "scattergl": [
           {
            "marker": {
             "colorbar": {
              "outlinewidth": 0,
              "ticks": ""
             }
            },
            "type": "scattergl"
           }
          ],
          "scattermapbox": [
           {
            "marker": {
             "colorbar": {
              "outlinewidth": 0,
              "ticks": ""
             }
            },
            "type": "scattermapbox"
           }
          ],
          "scatterpolar": [
           {
            "marker": {
             "colorbar": {
              "outlinewidth": 0,
              "ticks": ""
             }
            },
            "type": "scatterpolar"
           }
          ],
          "scatterpolargl": [
           {
            "marker": {
             "colorbar": {
              "outlinewidth": 0,
              "ticks": ""
             }
            },
            "type": "scatterpolargl"
           }
          ],
          "scatterternary": [
           {
            "marker": {
             "colorbar": {
              "outlinewidth": 0,
              "ticks": ""
             }
            },
            "type": "scatterternary"
           }
          ],
          "surface": [
           {
            "colorbar": {
             "outlinewidth": 0,
             "ticks": ""
            },
            "colorscale": [
             [
              0,
              "#0d0887"
             ],
             [
              0.1111111111111111,
              "#46039f"
             ],
             [
              0.2222222222222222,
              "#7201a8"
             ],
             [
              0.3333333333333333,
              "#9c179e"
             ],
             [
              0.4444444444444444,
              "#bd3786"
             ],
             [
              0.5555555555555556,
              "#d8576b"
             ],
             [
              0.6666666666666666,
              "#ed7953"
             ],
             [
              0.7777777777777778,
              "#fb9f3a"
             ],
             [
              0.8888888888888888,
              "#fdca26"
             ],
             [
              1,
              "#f0f921"
             ]
            ],
            "type": "surface"
           }
          ],
          "table": [
           {
            "cells": {
             "fill": {
              "color": "#EBF0F8"
             },
             "line": {
              "color": "white"
             }
            },
            "header": {
             "fill": {
              "color": "#C8D4E3"
             },
             "line": {
              "color": "white"
             }
            },
            "type": "table"
           }
          ]
         },
         "layout": {
          "annotationdefaults": {
           "arrowcolor": "#2a3f5f",
           "arrowhead": 0,
           "arrowwidth": 1
          },
          "autotypenumbers": "strict",
          "coloraxis": {
           "colorbar": {
            "outlinewidth": 0,
            "ticks": ""
           }
          },
          "colorscale": {
           "diverging": [
            [
             0,
             "#8e0152"
            ],
            [
             0.1,
             "#c51b7d"
            ],
            [
             0.2,
             "#de77ae"
            ],
            [
             0.3,
             "#f1b6da"
            ],
            [
             0.4,
             "#fde0ef"
            ],
            [
             0.5,
             "#f7f7f7"
            ],
            [
             0.6,
             "#e6f5d0"
            ],
            [
             0.7,
             "#b8e186"
            ],
            [
             0.8,
             "#7fbc41"
            ],
            [
             0.9,
             "#4d9221"
            ],
            [
             1,
             "#276419"
            ]
           ],
           "sequential": [
            [
             0,
             "#0d0887"
            ],
            [
             0.1111111111111111,
             "#46039f"
            ],
            [
             0.2222222222222222,
             "#7201a8"
            ],
            [
             0.3333333333333333,
             "#9c179e"
            ],
            [
             0.4444444444444444,
             "#bd3786"
            ],
            [
             0.5555555555555556,
             "#d8576b"
            ],
            [
             0.6666666666666666,
             "#ed7953"
            ],
            [
             0.7777777777777778,
             "#fb9f3a"
            ],
            [
             0.8888888888888888,
             "#fdca26"
            ],
            [
             1,
             "#f0f921"
            ]
           ],
           "sequentialminus": [
            [
             0,
             "#0d0887"
            ],
            [
             0.1111111111111111,
             "#46039f"
            ],
            [
             0.2222222222222222,
             "#7201a8"
            ],
            [
             0.3333333333333333,
             "#9c179e"
            ],
            [
             0.4444444444444444,
             "#bd3786"
            ],
            [
             0.5555555555555556,
             "#d8576b"
            ],
            [
             0.6666666666666666,
             "#ed7953"
            ],
            [
             0.7777777777777778,
             "#fb9f3a"
            ],
            [
             0.8888888888888888,
             "#fdca26"
            ],
            [
             1,
             "#f0f921"
            ]
           ]
          },
          "colorway": [
           "#636efa",
           "#EF553B",
           "#00cc96",
           "#ab63fa",
           "#FFA15A",
           "#19d3f3",
           "#FF6692",
           "#B6E880",
           "#FF97FF",
           "#FECB52"
          ],
          "font": {
           "color": "#2a3f5f"
          },
          "geo": {
           "bgcolor": "white",
           "lakecolor": "white",
           "landcolor": "#E5ECF6",
           "showlakes": true,
           "showland": true,
           "subunitcolor": "white"
          },
          "hoverlabel": {
           "align": "left"
          },
          "hovermode": "closest",
          "mapbox": {
           "style": "light"
          },
          "paper_bgcolor": "white",
          "plot_bgcolor": "#E5ECF6",
          "polar": {
           "angularaxis": {
            "gridcolor": "white",
            "linecolor": "white",
            "ticks": ""
           },
           "bgcolor": "#E5ECF6",
           "radialaxis": {
            "gridcolor": "white",
            "linecolor": "white",
            "ticks": ""
           }
          },
          "scene": {
           "xaxis": {
            "backgroundcolor": "#E5ECF6",
            "gridcolor": "white",
            "gridwidth": 2,
            "linecolor": "white",
            "showbackground": true,
            "ticks": "",
            "zerolinecolor": "white"
           },
           "yaxis": {
            "backgroundcolor": "#E5ECF6",
            "gridcolor": "white",
            "gridwidth": 2,
            "linecolor": "white",
            "showbackground": true,
            "ticks": "",
            "zerolinecolor": "white"
           },
           "zaxis": {
            "backgroundcolor": "#E5ECF6",
            "gridcolor": "white",
            "gridwidth": 2,
            "linecolor": "white",
            "showbackground": true,
            "ticks": "",
            "zerolinecolor": "white"
           }
          },
          "shapedefaults": {
           "line": {
            "color": "#2a3f5f"
           }
          },
          "ternary": {
           "aaxis": {
            "gridcolor": "white",
            "linecolor": "white",
            "ticks": ""
           },
           "baxis": {
            "gridcolor": "white",
            "linecolor": "white",
            "ticks": ""
           },
           "bgcolor": "#E5ECF6",
           "caxis": {
            "gridcolor": "white",
            "linecolor": "white",
            "ticks": ""
           }
          },
          "title": {
           "x": 0.05
          },
          "xaxis": {
           "automargin": true,
           "gridcolor": "white",
           "linecolor": "white",
           "ticks": "",
           "title": {
            "standoff": 15
           },
           "zerolinecolor": "white",
           "zerolinewidth": 2
          },
          "yaxis": {
           "automargin": true,
           "gridcolor": "white",
           "linecolor": "white",
           "ticks": "",
           "title": {
            "standoff": 15
           },
           "zerolinecolor": "white",
           "zerolinewidth": 2
          }
         }
        }
       }
      }
     },
     "metadata": {},
     "output_type": "display_data"
    }
   ],
   "source": [
    "\n",
    "fig = go.Figure(data=[go.Mesh3d(x=small_x[:,0], y=small_x[:,1], z=small_y[:,focus], color='lightpink', opacity=0.50)])\n",
    "fig.show()"
   ]
  }
 ],
 "metadata": {
  "kernelspec": {
   "display_name": "venv_cfd",
   "language": "python",
   "name": "python3"
  },
  "language_info": {
   "codemirror_mode": {
    "name": "ipython",
    "version": 3
   },
   "file_extension": ".py",
   "mimetype": "text/x-python",
   "name": "python",
   "nbconvert_exporter": "python",
   "pygments_lexer": "ipython3",
   "version": "3.11.7"
  }
 },
 "nbformat": 4,
 "nbformat_minor": 2
}
